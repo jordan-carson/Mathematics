{
 "cells": [
  {
   "cell_type": "markdown",
   "metadata": {},
   "source": [
    "## Calculus\n",
    "\n",
    "Provides us a framework for understanding how mathematical functions behave. Calculus helps us:\n",
    "\n",
    "- Understand the steepness at various points\n",
    "- Find the extreme points in a function\n",
    "- Determine the optimal function that best represents a dataset\n"
   ]
  },
  {
   "cell_type": "markdown",
   "metadata": {},
   "source": [
    "## Slope of a line\n",
    "\n",
    "$$ y = mx + b$$\n",
    "\n",
    "$$ m = \\frac{\\text{change in } y}{\\text{change in } x} = \\frac{\\Delta y}{\\Delta x}$$\n",
    "\n",
    "\n",
    "### Area under a curve\n",
    "\n",
    "Find the area under $f(x) = x^2$,\n",
    "\n"
   ]
  },
  {
   "cell_type": "markdown",
   "metadata": {},
   "source": [
    "# Derivatives\n",
    "\n",
    "Is the slope of a line. \n",
    "\n",
    "$$ \\frac{y_2 - y_1}{x_2 - x_1} $$"
   ]
  },
  {
   "cell_type": "markdown",
   "metadata": {},
   "source": [
    "### Functions of single variable\n",
    "\n",
    "### Limit\n",
    "\n",
    "### Continuity\n",
    "\n",
    "### Differentiability\n"
   ]
  },
  {
   "cell_type": "markdown",
   "metadata": {},
   "source": [
    "\n",
    "### Mean Value Theorems\n",
    "\n",
    "If we take the average rate of change over the interval, then at some point the instanteous rate of change, is going to be the same as the average change. \n",
    "\n",
    "The average change over point(a,b) is the slope of the secant line. All the mean value theorem tells us is that at some point the instanteous rate of change over some point (the tangent line) on that line will equal the average change. \n",
    "\n",
    "$$ \\frac{\\Delta y}{\\Delta x} = \\frac{f(b) - f(a)}{b-a} $$\n",
    "\n",
    "### Indeterminate forms\n",
    "\n",
    "### L'hospital rule\n"
   ]
  },
  {
   "cell_type": "markdown",
   "metadata": {},
   "source": [
    "### Maxima and minima\n",
    "\n",
    "### Product Rule\n",
    "\n",
    "### Chain Rule\n",
    "\n",
    "### Taylor's series\n",
    "\n",
    "### Infinite Series Summation / integration concepts\n",
    "\n",
    "### Fundamental and mean value-theorems of integral calculus\n",
    "\n",
    "### Evaluation of definite and improper integrals\n",
    "\n",
    "### Beta and Gamma functions\n",
    "\n",
    "### Functions of multiple variables, limit, continuity and partial derivatives\n",
    "\n",
    "### Basics of ordinary and partial differential equations"
   ]
  },
  {
   "cell_type": "markdown",
   "metadata": {
    "collapsed": true
   },
   "source": [
    "[Multi-Variate Calc](http://www.columbia.edu/itc/sipa/math/calc_rules_multivar.html)\n",
    "\n",
    "[Graphs of two variables](http://www.columbia.edu/itc/sipa/math/graphs.html)"
   ]
  },
  {
   "cell_type": "code",
   "execution_count": null,
   "metadata": {
    "collapsed": true
   },
   "outputs": [],
   "source": []
  }
 ],
 "metadata": {
  "kernelspec": {
   "display_name": "Python 3",
   "language": "python",
   "name": "python3"
  },
  "language_info": {
   "codemirror_mode": {
    "name": "ipython",
    "version": 3
   },
   "file_extension": ".py",
   "mimetype": "text/x-python",
   "name": "python",
   "nbconvert_exporter": "python",
   "pygments_lexer": "ipython3",
   "version": "3.6.8"
  }
 },
 "nbformat": 4,
 "nbformat_minor": 2
}
