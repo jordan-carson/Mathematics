{
 "cells": [
  {
   "cell_type": "markdown",
   "metadata": {},
   "source": [
    "# Cross Products - Standard Introduction\n",
    "\n",
    "We start in two dimensions, if we have two vectors $\\vec{v}$ and $\\vec{w}$, think about the parallelogram that they span out, meaning if you take a copy of $\\vec{v}$ and move its tale to the tip of $\\vec{w}$, and take a copy of $\\vec{w}$ and move its tale to the tip of $\\vec{v}$, the four vectors on the screen enclose a certain parallelogram. The cross product of $\\vec{v} \\times \\vec{w}$, is the area of this parallelogram, and we need to consider orientation. Basically, if $\\vec{v}$ is on the right of $\\vec{w}$ then $\\vec{v} \\times \\vec{w}$ is positive >0 and equal to the area of the parallelogram. But if $\\vec{v}$ is on the left of $\\vec{w}$ then the cross product is negative, this means that order matters, if you were to swap them and take the cross product of $\\vec{w} \\times \\vec{v}$ the cross product would become the negative of whatever it was before. \n",
    "\n",
    "The way to remember the ordering is when you take the cross product of the two basis vectors in order, $\\hat{i} \\times \\hat{j}$ , the results should be positive. In fact, the order of the basis vectors is what defines orientation so since $\\hat{i}$ is on the right of $\\hat{j}$, we remember that $\\vec{v} \\times \\vec{w}$ has to be positive whenever $\\vec{v}$ is on the right of $\\vec{w}$. \n",
    "\n",
    "**How do you compute this?**\n",
    "\n",
    "How do you compute the cross product without someomne telling you the area? This is where the determinant comes in. Well as we know the determinant provides us with the area of a matrix. \n",
    "\n",
    "For the 2D cross product, $\\vec{v} \\times \\vec{w}$, what you do is you write the coordinates of $\\vec{v}$ as the first column of the matrix and you take the coordinates of $\\vec{w}$ and make them the second column, then you just compute the determinant. This is because a matrix whose columns represent $\\vec{v}$ and $\\vec{w}$ corresponds with a linear transformation that moves the basis vectors $\\hat{i}$ and $\\hat{j}$ to $\\vec{v}$ and $\\vec{w}$. \n",
    "\n",
    "The determinant is all about how areas change due to a transformation. And the prototypical area we look at is the unit square resting on $\\hat{i}$ and $\\hat{j}$, after the transformation, that square gets turned into the parallelogram that we care about. So the determinant which generally measures the factor by which areas are changes, gives the area of this parallelogram, since it evolved from a square that started with area 1. \n",
    "\n",
    "Whats more if $\\vec{v}$ is on the left of $\\vec{w}$, it means that orientation was flipped during that transformation, which is what it means for the determinant to be negative. \n",
    "\n",
    "#### Example\n",
    "\n",
    "Let's say $\\vec{v}$ has coordinated $(-3, 1)$ and $\\vec{w}$ has coordinates $(2, 1)$. The determinant of the matrix with those coordinates as columns is $(-3 * 1) - (2*1) = -5$. So evidently, the area of the parallelogram we define is 5, and since $\\vec{v}$ is on the left of $\\vec{w}$, it should make sense that this value is negative. \n",
    "\n",
    "Notice that if two vectors are closer to being perpendicular, their area is larger than if the two vectors were closer pointing in the same direction. \n",
    "\n",
    "If you were to scale up one of the vectors, say $\\vec{v}$, the area of the parallelogram would also be scaled up by a factor of 3. \n",
    "\n",
    "$3\\vec{v}\\times\\vec{w}$ would be exactly $3 * \\vec{v}\\times\\vec{w}$\n",
    "\n",
    "This is not **technically** the cross product. The true cross product is something that combines two different 3D vectors to get a new 3D vector. Just as before, we are still going to consider the defined by the two vectors that were crossing together. Let's say the area of the parallelogram is 2.5 for the vectors, but the cross-product is not a number its a vector. \n",
    "\n",
    "$\\vec{v}\\times\\vec{w} = \\vec{p}$\n",
    "\n",
    "This new vectors length will be the area of that parallelogram which in this case is 2.5 and the direction of that new vector is going tto be perpendicular to the parallelogram. But which way? Use the right hand rule, Put the fore finger of your right hand in the direction of $\\vec{v}$ then stick out, then stick out your middle finger in the direction of $\\vec{w}$. Then when you point up your thumb, that's the direction of the cross product. \n",
    "\n",
    "Let's say $\\vec{v}$ was a vector with length 2 pointing straight up in the Z direction and $\\vec{w}$ is a vector with length 2 pointing in the pure Y direction. \n",
    "\n",
    "$$\\vec{v} = \\left[\\begin{array}{c} 0 \\\\ 0 \\\\ 2 \\end{array}\\right]$$\n",
    "$$\\vec{w} = \\left[\\begin{array}{c} 0 \\\\ 2 \\\\ 0 \\end{array}\\right]$$\n",
    "\n",
    "The parallelogram we define in this example is actually a square, with area 4, since they're perpendicular and have the same length, so their cross-product should be a vector with length 4, using the right hand rule their cross product should point in the negative x direction. The cross product of these two vectors is -4 times $\\hat{i}$.\n",
    "\n",
    "$$\\vec{v}\\times\\vec{w} = \\left[\\begin{array}{c} -4 \\\\ 0 \\\\ 0 \\end{array}\\right]$$\n",
    "\n",
    "**For more general computations, there is a formula **\n",
    "\n",
    "$$\\left[\\begin{array}{c} v_1 \\\\ v_2 \\\\ v_3 \\end{array}\\right] \\times\n",
    "\\left[\\begin{array}{c} w_1 \\\\ w_2 \\\\ w_3 \\end{array}\\right]\n",
    "= \\left[\\begin{array}{cccc} v_2\\cdot w_3 - w_2\\cdot v_3 \\\\  v_3\\cdot w_1 - w_3\\cdot v_1  \\\\  v_1\\cdot w_2 - w_1\\cdot v_2  \\end{array}\\right]$$\n",
    "\n",
    "At first, this might seem strange. We write down a 3D matrix where the second and third columns contain the coordinates for $\\hat{v}$ and $\\hat{w}$, but for that first column we write down the basis vectors $\\hat{i}, \\hat{j}, \\hat{k}$. Then you compute the determinant of this matrix. \n",
    "\n",
    "$$\n",
    "\\left[\\begin{array}{c} v_1 \\\\ v_2 \\\\ v_3 \\end{array}\\right] \\times\n",
    "\\left[\\begin{array}{c} w_1 \\\\ w_2 \\\\ w_3 \\end{array}\\right]\n",
    "= \\text{det}\\left(\\left[\\begin{array}{ccc} \\hat{i} & v_1 & w_1 \\\\  \\hat{j} & v_2 &  w_2  \\\\  \\hat{k} & v_3 & w_3  \\end{array}\\right]\n",
    "\\right)$$\n",
    "\n",
    "But, Why put in a vector as an entry of a matrix? Studentts are often told that this is just a nottational trick. when you carry out thte computatitons as if $\\hat{i}, \\hat{j}, \\hat{k}$ were numbers then you get some linear combination of those basis vectors. \n",
    "\n",
    "$$\\hat{i}(v_2w_3 - v_3w_2) + \\hat{j}(v_3w_1 - v_1w_3) + \\hat{k}(v_1w_2 - v_2w_1) $$\n",
    "\n",
    "And the vector defined by that linear combination, students are told to just believe, is the unique vector perpendicular to $\\vec{v}$ and $\\vec{w}$ whose magnitude is the area of the appropriate parallelogram and whose direction obeys the right hand rule.  \n",
    "\n",
    "**Sure this is a notational trick, but what is it's reason?**\n",
    "\n",
    "Its not a coincidence the determinant is once again important. And, putting the basis vectors in those slots is not just a random thing to do. To understand where all of this comes from it helps to use the idea of duality. What does that cross-product vector geometrically represent? "
   ]
  },
  {
   "cell_type": "markdown",
   "metadata": {},
   "source": [
    "We left off with computing the below, \n",
    "\n",
    "$$\n",
    "\\left[\\begin{array}{c} v_1 \\\\ v_2 \\\\ v_3 \\end{array}\\right] \\times\n",
    "\\left[\\begin{array}{c} w_1 \\\\ w_2 \\\\ w_3 \\end{array}\\right]\n",
    "= \\text{det}\\left(\\left[\\begin{array}{ccc} \\hat{i} & v_1 & w_1 \\\\  \\hat{j} & v_2 &  w_2  \\\\  \\hat{k} & v_3 & w_3  \\end{array}\\right]\n",
    "\\right)$$\n",
    "\n",
    "the three values we calculate are interpreted as the coordinates of some resulting vector. From here students are typically told to believe that the resulting vector has the following geometric properties. Its length equals the area of the parallelogram defined by $\\vec{v}$ and $\\vec{w}$, and points in a direction perpendicular to both $\\vec{v}$ and $\\vec{w}$, which obeys the right hand rule in the sense that if you point your forefinger along $\\vec{v}$ and middle finger along $\\vec{w}$, then when you stick up your thumb it will point in the direction of the new vector \n",
    "\n",
    "There are some brute force computations which you can do to confirm these facts, such as,\n",
    "\n",
    "$$\\vec{v} \\cdot \\left(\\vec{v}\\times\\vec{w}\\right) = 0$$\n",
    "$$\\vec{w} \\cdot \\left(\\vec{v}\\times\\vec{w}\\right) = 0$$\n",
    "$$0 = \\cos^{-1}\\left(\\vec{v}\\cdot\\vec{w}\\right)/\\left(||\\vec{v}||\\cdot||\\vec{w}||\\right)$$"
   ]
  },
  {
   "cell_type": "code",
   "execution_count": null,
   "metadata": {
    "collapsed": true
   },
   "outputs": [],
   "source": []
  },
  {
   "cell_type": "code",
   "execution_count": null,
   "metadata": {
    "collapsed": true
   },
   "outputs": [],
   "source": []
  }
 ],
 "metadata": {
  "kernelspec": {
   "display_name": "Python 3",
   "language": "python",
   "name": "python3"
  },
  "language_info": {
   "codemirror_mode": {
    "name": "ipython",
    "version": 3
   },
   "file_extension": ".py",
   "mimetype": "text/x-python",
   "name": "python",
   "nbconvert_exporter": "python",
   "pygments_lexer": "ipython3",
   "version": "3.6.0"
  }
 },
 "nbformat": 4,
 "nbformat_minor": 2
}
