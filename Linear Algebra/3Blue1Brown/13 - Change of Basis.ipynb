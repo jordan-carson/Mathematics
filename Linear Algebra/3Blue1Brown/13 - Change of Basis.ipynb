{
 "cells": [
  {
   "cell_type": "markdown",
   "metadata": {},
   "source": [
    "# Change of Basis\n",
    "\n",
    "### TL;DR\n",
    "\n",
    "A change of basis represents moving a matrix from one coordinate system to another, or applying some linear transformation to a matrix in our space, and finding the location of the resulting basis vectors of those new coordinates in the different coordinate system. A basis matrix consists of finding the location after a linear transformation following the coordinates of the basis vectors $\\hat{i}$ and $\\hat{j}$.\n",
    "\n",
    "\n",
    "#### Deep Summary\n",
    "If we have a vector sitting in 2D space, we have a standard way to describe it with coordinates. In this case, the vector has coordinaes $[3,2]$, which means going from its tail to its tip involves moving 3 units to the right and 2 units up. Now, the more linear algebra oriented way to describe coordinates is to think of each of these numbers as a scalar, a thing that stretches or squishes vectors. You think of that first coordinate as scaling $\\hat{i}$, the vector with length 1, pointing to the right, while the second coordinate scales $\\hat{j}$, the vector with length 1, pointing straight up. The tip to tail sum of those two scaled vectors is what the coordinates are meant to describe. \n",
    "\n",
    "You can think of these two special vectors as encapsulating all of the implicit assumptions of our coordinate system. The fact that the first number indicates rightward motion, and the second one indicates upward motion, exactly how far unit of distances. All of that is tied up in the choice of $\\hat{i}$ and $\\hat{j}$, as the vectors which are scalar coordinates are meant to actually scale. Anyway to translate between vectors and sets of numbers is called a coordinate system, and the two special vectors, $\\hat{i}$ and $\\hat{j}$ are called the basis vectors of our standard coordinate system. \n",
    "\n",
    "\n",
    "**Alternate Basis Vectors: What about a different set of basis vectors?**\n",
    "\n",
    "Let's say we have a friend who uses a different set of basis vectors which we will call $\\vec{b_1}$ and $\\vec{b_2}$. Our friend, Jennifer, first basis vector $\\vec{b_1}$ points up into the right a little bit and the second vector $\\vec{b_2}$ point left and up. If we take another look at the vector described earlier, the one we would describe using coordinates $[3,2]$ using our basis vectors $\\hat{i}$ and $\\hat{j}$. Jennifer, would describe this vector with the coordinates $[\\frac{5}{3}, \\frac{1}{3}]$ what this means is that the particular way to get to that vector using her two basis vectors is to scale $\\vec{b_1}$ by $\\frac{5}{3}$ and scale $\\vec{b_2}$ by $\\frac{1}{3}$ then add them both together. \n",
    "\n",
    "In general, whenever Jennifer uses coordinates to describe a vector, she thinks of her first coordinate as scaling $\\vec{b_1}$ and second coordinate as scaling $\\vec{b_2}$ and adds the results together. What she gets will typically be completely different from the vector that you and I would think of as having those coordinates. To be a little more precise about the setup here, her first basis vector $\\vec{b_1}$ is something we would describe with the coordinates $[2,1]$, and her second basis vector $\\vec{b_2}$ is something we would describe as $[-1,1]$. But its important to realize from her perspective in her system those vectors have coordinates $[1,0]$ and $[0,1]$. They are what define the meaning of the coordinates $[1,0]$ and $[0,1]$ in her world. So, in effect, we're speaking different languages. We're all looking at the same vectors in space, but Jennifer uses different words and numbers to describe them. \n",
    "\n",
    "When we are visualizing 2d space, we are using a grid, but this is just a construct, a way to visualize our coordinate system and completely depends on our choice of basis. Space itself has no intrinsic grid, jennifer might draw her own grid which would be an equally made-up construct meant is nothing more than a visual tool to help follow the meaning of her coordinates.  Her origin, though, would acutally line up with ours since everybody agrees on what the coordinates $[0,0]$ should mean. Its the thing that you get when you scale any vector by 0. But the direction of her axes and the spacing of her grid lines will be different, depending on her choice of basis vectors. \n",
    "\n",
    "**But how do we translate between coordinate systems?**\n",
    "\n",
    "If for example, Jennifer describes a vector with coordinates $[-1,2]$, what would that be in our coordinate system? How do you translate from her language to ours? Well, what our coordinates are saying is that this vector is $-1 * \\vec{b_1} + 2 * \\vec{b_2}$, and from our prospective. $\\vec{b_1}$ has coordinates $[2, 1]$ and $\\vec{b_2}$ has coordinates $[-1,1]$ so we can actually compute $-1 * \\vec{b_1} + 2 * \\vec{b_2}$ or\n",
    "\n",
    "$$ -1\\left[\\begin{array}{c}2\\\\1\\\\ \\end{array}\\right] + 2 \\left[\\begin{array}{c}-1\\\\1\\\\ \\end{array}\\right]$$\n",
    "\n",
    "As they are represented in our coordinate system, and working this out. You get a vector with coordinates $[-4,1]$. So, that's how we would describe the vector that she thinks of as $[-1,2]$. This process here of scaling each of her basis vectors by the corresponding coordinates of some vector, then adding them together might seem somewhat familiar, its matrix-vector multiplication, with a matrix whose columns represent Jennifer's basis vectors in our language. Once you understand matrix-vector multiplication, as applying a certain linear transformation, theres a pretty intuitive way to think about what's going on here. A matrix whose columns represent Jennifer's basis vectors can be thought of as a transformation that moves our basis vectors, $\\hat{i}$ and $\\hat{j}$, the things we think of when we say $[1,0]$ and $[0,1]$ to Jennifers basis vectors, the things she thinks of when she says $[1,0]$ and $[0,1]$. \n",
    "\n",
    "**Walk Through Example**\n",
    "\n",
    "Lets walk through what it would to take the vector that we think of as having coordinates $[-1,2]$ and applying that transformation. Before the linear transformation, we're thinking of this vector as a certain linear combination of our basis vectors $-1\\hat{i} + 2\\hat{j}$. And the key feature of a linear transformation is that the resulting vector will be that same linear combination, but of the new basis vectors. -1 times the place where $\\hat{i}$ landas plus 2 times the place where $\\hat{j}$ lands. So what this matrix does is transformed our misconception of what jennifer means into the actual vector that she's referring to. \n",
    "\n",
    "$$\\left[\\begin{array}{cc}2 & -1 \\\\1 & 1\\\\ \\end{array}\\right]$$\n",
    "\n",
    "This may seem backward as geometrically, this matrix transforms our grid into jennifer's grid, but numerically its translating a vector described in her language to our language. What may help to understand this, is by thinking about how it takes our misconception of what jennifer means the vector we get using the same coordinates by in our system then it transforms it into the vector that she really meant. \n",
    "\n",
    "**What about going the other way around?**\n",
    "\n",
    "In the example I used earlier this video, when I have the vector with coordinates $[3,2]$ in our system. How did we compute that it would have coordinates $[\\frac{5}{3}, \\frac{1}{3}]$ in jennifer system?\n",
    "\n",
    "We start with the change of basis matrix, that translated jennifers language into ours, then you take its inverse. Remember that an inverse matrix is a new transformation that corresponds to playing that first one backwards. \n",
    "\n",
    "$$\\left[\\begin{array}{cc}2 & -1 \\\\1 & 1\\\\ \\end{array}\\right]^{-1}$$\n",
    "\n",
    "In practice, especially when you're working in more than two dimensions you'd use a computer to compute the matrix that acutally represents this inverse. In this case, the inverse of the change of basis matrix that has jennifer's basis as its columns ends up working out to have columns $\\left[\\frac{1}{3}, -\\frac{1}{3}\\right]$ and $\\left[\\frac{1}{3}, \\frac{2}{3}\\right]$.\n",
    "\n",
    "$$\\left[\\begin{array}{cc}\\frac{1}{3} & \\frac{1}{3} \\\\ -\\frac{1}{3} & \\frac{2}{3}\\\\ \\end{array}\\right]\\left[\\begin{array}{c}3 \\\\ 2 \\end{array}\\right]$$\n",
    "\n",
    "So for example, to see what the vector $[3,2]$ looks like in jennifer's system we multiply this inverse change of basis matrix by the vector $[3, 2]$, which works out to be $[\\frac{5}{3}, \\frac{1}{3}]$. \n",
    "\n",
    "**Summary So Far**\n",
    "\n",
    "This is how to trnaslate the description of individual vectors, back and forth between coordinate systems. The matrix whose columns represent Jennifer's basis vectors, but written in our coordinates translated vectors from her language into our language. And the inverse matrix does the opposite it translates our language into her language. But vectors arent the only thing we describe using coordinates (recall matrix multiplication and how transformations can be described as a given matrix, and that matrix multiplication corresponds to composing successive transformation.) \n",
    "\n",
    "Consider some linear transformation, like a $90^\\circ$ counterclockwise rotation. When we represent this trnasformation as a matrix, we follow where the basis vectors $\\hat{i}$ and $\\hat{j}$ each go. $\\hat{i}$ ends up at the spot with coordinates $[0,1]$, and $\\hat{j}$ ends up at the spot with coordinates $[-1,0]$. So those coordinates become the columns of our matrix, but this representation is heavily tied up in our choice of basis vectors from the fact that we're following $\\hat{i}$ and $\\hat{j}$ in the first place to the fact that we're recording their landing spots in our own coordinate system. \n",
    "\n",
    "**How would jennifer describe the same $90^\\circ$ rotation of space?**\n",
    "\n",
    "We may be tempted to translate the columns of our rotation matrix into jennifer's language, but thats not right as those columns are where our basis vectors land. But the matrix that Jennifer wants should represent where her basis vectors land, and it needs to describe those landing spots in her language. \n",
    "\n",
    "**How to translate a matrix**\n",
    "\n",
    "Here is a common way to think of how this is done. Start with any vector written in Jennifer's language. Rather than trying to follow what happens to it in terms of her language, first we're going to translate it into our language using the change of basis matrix. The one whose columns represent her basis vectors in our language, this gives us the same vector but now written in our language. Then, apply the transformation matrix to what you get by multiplying it on the left. \n",
    "\n",
    "$$\\left[\\begin{array}{cc}0 & -1\\\\1 & 0\\end{array}\\right]\\left[\\begin{array}{cc}2 & -1\\\\1 & 1\\end{array}\\right]\\left[\\begin{array}{c}-1\\\\2\\end{array}\\right]\n",
    "$$\n",
    "\n",
    "This tells us where that vector lands but still in our language, so as a last step apply the inverse change of basis matrix, multiplied on the left as usual to get the transformed vector, but now in jennifer's language. \n",
    "\n",
    "\n",
    "$$\\left[\\begin{array}{cc}2 & -1\\\\1 & 1\\end{array}\\right]^{-1}\\left[\\begin{array}{cc}0 & -1\\\\1 & 0\\end{array}\\right]\\left[\\begin{array}{cc}2 & -1\\\\1 & 1\\end{array}\\right]\\left[\\begin{array}{c}-1\\\\2\\end{array}\\right]\n",
    "$$\n",
    "\n",
    "Since we could do this, with any vector written in her language, first applying the change of basis then the transformation, then the inverse change of basis, that composition of three matrices gives us the transformation matrix in Jennifer's language. \n",
    "\n",
    "\n",
    "$$\\left[\\begin{array}{cc}2 & -1\\\\1 & 1\\end{array}\\right]^{-1}\\left[\\begin{array}{cc}0 & -1\\\\1 & 0\\end{array}\\right]\\left[\\begin{array}{cc}2 & -1\\\\1 & 1\\end{array}\\right]\\vec{v}\n",
    "$$\n",
    "\n",
    "It takes in a vector of her language, and spits out the transformed version of that vector in her language. For this specific example, when jennifer's basis vectors look like $[2,1]$ and $[-1,1]$ in out language and when the transformation is a $90^\\circ$ rotation, the product of these three matrices, if you work through it has columns\n",
    "\n",
    "$$\\left[\\begin{array}{cc}2 & -1\\\\1 & 1\\end{array}\\right]^{-1}\\left[\\begin{array}{cc}0 & -1\\\\1 & 0\\end{array}\\right]\\left[\\begin{array}{cc}2 & -1\\\\1 & 1\\end{array}\\right] = \\left[\\begin{array}{cc}\\frac{1}{3} & -\\frac{2}{3}\\\\ \\frac{5}{3} & - \\frac{1}{3} \\end{array}\\right]$$\n",
    "\n",
    "So if jennifer multiplies that matrix by the coordinates of a vector in her system, it will return the $90^\\circ$ rotated version of that vector, expressed in her coordinate system. \n",
    "\n",
    "**In General**\n",
    "\n",
    "Whenever you see an expression like the below, it suggests a mathematical sort of empathy. That middle matrix represents a transformation of some kind, as you see it, and the outer two matrices represent the empathy, the shift in perspective. And the full matrix product represents that same transformation but as someone else sees it. \n",
    "$$A^{-1} M A$$\n",
    "\n",
    "Why do we care about alternate coordinate systems? behold the Eigen."
   ]
  },
  {
   "cell_type": "code",
   "execution_count": 24,
   "metadata": {
    "collapsed": true
   },
   "outputs": [],
   "source": [
    "import numpy as np"
   ]
  },
  {
   "cell_type": "code",
   "execution_count": 27,
   "metadata": {
    "collapsed": true
   },
   "outputs": [],
   "source": [
    "basis_matrix = np.matrix([[2, -1], [1,1]])"
   ]
  },
  {
   "cell_type": "code",
   "execution_count": 29,
   "metadata": {
    "collapsed": false
   },
   "outputs": [],
   "source": [
    "inverse = np.linalg.inv(basis_matrix)"
   ]
  },
  {
   "cell_type": "code",
   "execution_count": 38,
   "metadata": {
    "collapsed": false
   },
   "outputs": [],
   "source": [
    "transformation_matrix = np.matrix([[0, -1], [1, 0]])"
   ]
  },
  {
   "cell_type": "code",
   "execution_count": 36,
   "metadata": {
    "collapsed": false
   },
   "outputs": [
    {
     "data": {
      "text/plain": [
       "matrix([[ 1.66666667,  0.33333333]])"
      ]
     },
     "execution_count": 36,
     "metadata": {},
     "output_type": "execute_result"
    }
   ],
   "source": [
    "inverse @ np.array([3, 2])"
   ]
  },
  {
   "cell_type": "code",
   "execution_count": 39,
   "metadata": {
    "collapsed": false
   },
   "outputs": [
    {
     "data": {
      "text/plain": [
       "matrix([[ 0.33333333, -1.66666667],\n",
       "        [ 0.66666667, -0.33333333]])"
      ]
     },
     "execution_count": 39,
     "metadata": {},
     "output_type": "execute_result"
    }
   ],
   "source": [
    "basis_matrix @ transformation_matrix @ inverse"
   ]
  },
  {
   "cell_type": "code",
   "execution_count": null,
   "metadata": {
    "collapsed": true
   },
   "outputs": [],
   "source": []
  }
 ],
 "metadata": {
  "anaconda-cloud": {},
  "kernelspec": {
   "display_name": "Python [default]",
   "language": "python",
   "name": "python3"
  },
  "language_info": {
   "codemirror_mode": {
    "name": "ipython",
    "version": 3
   },
   "file_extension": ".py",
   "mimetype": "text/x-python",
   "name": "python",
   "nbconvert_exporter": "python",
   "pygments_lexer": "ipython3",
   "version": "3.5.2"
  }
 },
 "nbformat": 4,
 "nbformat_minor": 2
}
