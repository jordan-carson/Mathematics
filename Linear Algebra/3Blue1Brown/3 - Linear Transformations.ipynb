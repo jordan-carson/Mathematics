{
 "cells": [
  {
   "cell_type": "markdown",
   "metadata": {},
   "source": [
    "# Linear Transformation\n",
    "In two dimensions, a two-dimension linear transformation is a special kind of function which takes in a two-dimensional vector and outputs another two-dimensional vector. We can think of smooshing something around in space.\n",
    "\n",
    "But must follow the geometric rule: The _origin must remain fixed_, and _all lines must remain lines_. \n",
    "\n",
    "Every possible input vector moves to some new output vector, or thinking about a vector as just a point in space, a linear transformation is moving some point in space to some other point. Some linear transformations are simple like rotating about the origin, others can be a bit trickier. \n",
    "\n",
    "You only need to record where the two basis vectors, $\\hat{i}$ and $\\hat{j}$ each land, and everything else will follow from that. \n",
    "\n",
    "**Example**: Consider the vector $\\vec{v} = \\left[\\begin{array} -1\\\\ 2 \\end{array}\\right]$ meaning that it equals $-1\\hat{i} + 2\\hat{j}$. The location where $\\vec{v}$ lands will be -1 times the vector where $\\hat{i}$ landed plus 2 times the vector where $\\hat{j}$ landed. In other words, it started off as a certain linear combination of $\\hat{i}$ and $\\hat{j}$ and it ends up is that same linear combination of where those two vectors landed. This means you can deduce where v must go based on where $\\hat{i}$ and $\\hat{j}$ each land. For the example in video 3 of 3Blue1Brown: 4:46, here we can read off that $\\hat{i}$ lands on the coordinates (-1, 2). and $\\hat{j}$ lands on the x-axis over at the coordinates (3, 0). This implies that the vector represented by -1 $\\hat{i}$ + 2 $\\hat{j}$ ends up at -1 times the vector (1, 2) + 2 times the vector (3,0)\n",
    "\n",
    "$$ -1 \\left[\\begin{array} -1\\\\ 2 \\end{array}\\right] + 2\\left[\\begin{array} 33 \\\\ 0 \\end{array}\\right] = \\left[\\begin{array} 55\\\\ 2 \\end{array}\\right]$$\n",
    "\n",
    "As long as we have a record of where $\\hat{i}$ + 2 $\\hat{j}$ each land, we can find where the transformed $\\vec{v}$ lands. \n",
    "\n",
    "**In a more general coordinate space..**\n",
    "\n",
    "$\\hat{i} = \\left[\\begin{array} -1\\\\ 2 \\end{array}\\right]$ \n",
    "$\\hat{j} = \\left[\\begin{array} 33\\\\ 0 \\end{array}\\right]$ \n",
    "\n",
    "$$ x \\left[\\begin{array} -1\\\\ 2 \\end{array}\\right] + y\\left[\\begin{array} 33 \\\\ 0 \\end{array}\\right] = \\left[\\begin{array} 11 x + 3y\\\\ -2x + 0y \\end{array}\\right]$$\n",
    "\n",
    "With any input vector, we can determine where that vector lands using the above formula. Thus, a two-dimensional linear transformation is completely described by four numbers:\n",
    "- two coordinates for where $\\hat{i}$ lands\n",
    "- two coordinates for where $\\hat{j}$ lands\n",
    "\n",
    "It is common practice to package the coordinates into a grid, called a 2-by-2 matrix describing a linear transformation. Where we can interpret the columns as the two special vectors $\\hat{i}$ and $\\hat{j}$ \n",
    "\n",
    "$\\left[\\begin{matrix}\n",
    "    3 & 2 \\\\\n",
    "    -2 & 1\n",
    "\\end{matrix}\\right]$\n",
    "\n",
    "If we are given a matrix describing some linear transformation and some vector $\\vec{u}$ and you want to know where that linear transformation takes that vector, you can take the coordinates of the vector multiply them by the corresponding columns of the matrix, then add together what you get. \n",
    "\n",
    "**General Case**\n",
    "\n",
    "$\\left[ \\begin{matrix} a & b\\\\ c & d \\end{matrix} \\right]$\n",
    "$\\left[ \\begin{array} xx\\\\ y \\end{array} \\right]$\n",
    "\n",
    "We get,\n",
    "$x\\left[ \\begin{array} aa\\\\ c \\end{array} \\right] + y\\left[ \\begin{array} bb\\\\ d \\end{array} \\right] $\n",
    "which leaves us, $\\left[ \\begin{matrix} ax + by\\\\ cx + dy \\end{matrix} \\right]$\n",
    "\n",
    "**Sample Transformations**\n",
    "\n",
    "$\\mathbf{Shear} = \\left[ \\begin{matrix} 1 & 1\\\\ 0 & 1 \\end{matrix} \\right]$\n",
    "\n",
    "If the vectors that $\\hat{i}$ and $\\hat{j}$ land on are linearly dependent (one vector is a scaled version of the other). It means that the linear transformation squishes all of 2D space on to the line where those two vectors sit, also known as the one-dimensional span of those two linearly dependent vectors. \n",
    "\n",
    "\n",
    "## Summarize\n",
    "\n",
    "Linear transformations are a way to move around space such that grid lines remain parallel and evenly spaced and such that the origin remains fixed. These transformations can be described using only a handful of numbers. The coordinates of where each basis vector lands. Matrices give us a language to describe these transformations, where the columns represent those coordinates and matrix-vector multiplication is just a way to compute what that transformation does to a given vector. The important take-away here is that, every time you see a matrix, you can interpret it as a certain transformation of space. \n",
    "\n",
    "This is a main concept in Linear Algebra as once we can start to think about matrices as transformations of space, we will be able to deeply understand linear algebra and the topics to come!"
   ]
  },
  {
   "cell_type": "code",
   "execution_count": 48,
   "metadata": {
    "collapsed": false
   },
   "outputs": [
    {
     "data": {
      "text/plain": [
       "array([[1, 3],\n",
       "       [2, 1]])"
      ]
     },
     "execution_count": 48,
     "metadata": {},
     "output_type": "execute_result"
    }
   ],
   "source": [
    "import numpy as np\n",
    "\n",
    "x = np.array([2, 3])\n",
    "transformation = np.column_stack([[1, 2], [3, 1]])\n",
    "transformation"
   ]
  },
  {
   "cell_type": "code",
   "execution_count": null,
   "metadata": {
    "collapsed": true
   },
   "outputs": [],
   "source": []
  },
  {
   "cell_type": "code",
   "execution_count": 31,
   "metadata": {
    "collapsed": false
   },
   "outputs": [
    {
     "data": {
      "text/plain": [
       "array([8, 9])"
      ]
     },
     "execution_count": 31,
     "metadata": {},
     "output_type": "execute_result"
    }
   ],
   "source": [
    "x @ transformation"
   ]
  },
  {
   "cell_type": "code",
   "execution_count": 36,
   "metadata": {
    "collapsed": false
   },
   "outputs": [
    {
     "data": {
      "text/plain": [
       "array([8, 9])"
      ]
     },
     "execution_count": 36,
     "metadata": {},
     "output_type": "execute_result"
    }
   ],
   "source": [
    "(x[0] * transformation[0]) + (x[1] * transformation[1])"
   ]
  },
  {
   "cell_type": "code",
   "execution_count": null,
   "metadata": {
    "collapsed": true
   },
   "outputs": [],
   "source": []
  }
 ],
 "metadata": {
  "anaconda-cloud": {},
  "kernelspec": {
   "display_name": "Python [default]",
   "language": "python",
   "name": "python3"
  },
  "language_info": {
   "codemirror_mode": {
    "name": "ipython",
    "version": 3
   },
   "file_extension": ".py",
   "mimetype": "text/x-python",
   "name": "python",
   "nbconvert_exporter": "python",
   "pygments_lexer": "ipython3",
   "version": "3.5.2"
  }
 },
 "nbformat": 4,
 "nbformat_minor": 2
}
