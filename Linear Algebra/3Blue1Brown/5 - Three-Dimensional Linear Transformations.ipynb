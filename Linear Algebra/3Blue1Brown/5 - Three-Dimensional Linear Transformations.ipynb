{
 "cells": [
  {
   "cell_type": "markdown",
   "metadata": {},
   "source": [
    "# Three Dimensional Linear Transformations\n",
    "\n",
    "So far, we have looked at linear transformations that take two-dimension vectors to other two-dimensional vectors. The ideas carry over pretty seamlesly to higher dimensions. \n",
    "\n",
    "For example consider a linear transformation with three-dimensional vectors as inputs, and three dimensional vectors as outputs. \n",
    "\n",
    "$$\\left[\\begin{array} 22 \\\\ 6 \\\\ -1 \\end{array}\\right] \\ L(\\vec{v}) \\ \\left[\\begin{array} 33 \\\\ 2 \\\\ 0 \\end{array}\\right]$$\n",
    "\n",
    "Just like in two dimensions, one of these transformations is completely described by where the basis vectors go. But now there are three standard basis vectors that we typically use: the unit vector in the x-direction, $\\hat{i}$, the unit vector in the y-direction, $\\hat{j}$, and the unit vector in the z-direction, $\\hat{k}$. It is easier to follow these transformations by only following those basis vectors, give that a 3D grid representing all points can get messy. We can think about the coordinates of where each of these basis vectors lands and record the coordinates of the three vectors as the columns of a 3x3 matrix. This gives a matrix completely describes the transformation using only nine numbers. \n",
    "\n",
    "**Example** \n",
    "\n",
    "**Fig 1:**\n",
    "$$\\left[\\begin{array} xx \\\\ y \\\\ z \\end{array}\\right]$$\n",
    "\n",
    "To see where vector with coordinates **fig 1** lands - the reasoning is almost identical to what it was for two dimensions, each of those coordinates can be thought of instructions for how to scale each basis vector so that they add together to get your vector, this is illustrated below in **fig 2**.\n",
    "\n",
    "**Fig 2:**\n",
    "$$ \\mathbf{\\vec{v}} = \\left[\\begin{array} xx \\\\ y \\\\ z \\end{array}\\right] = x\\hat{i} + y\\hat{j} + z\\hat{k}$$\n",
    "\n",
    "And the important part just like the 2D case is that this scaling and adding process works both before and after the transformation. Thus to see where the vector lands you multiply the coordinates by the corresponding columns of the matrix and then you add together the three results. \n",
    "\n",
    "**Fig 3:**\n",
    "$$ \\left[\\begin{matrix} 0 & 1 & 2 \\\\ 3 & 4 & 5 \\\\ 6 & 7 & 8 \\end{matrix}\\right] \\left[\\begin{array} xx \\\\ y \\\\ z \\end{array}\\right] = x\\left[\\begin{array} 00 \\\\ 3 \\\\ 6 \\end{array}\\right] + y\\left[\\begin{array} 11 \\\\ 4 \\\\ 7 \\end{array}\\right] + z\\left[\\begin{array} 22 \\\\ 5 \\\\ 8 \\end{array}\\right]$$\n",
    "\n",
    "Multiplying two matricies is also similar whenever you see two 3x3 matrices getting multiplied together you should imagine first applying the transformation encoded by the right one then applying the transformation encoded by the left one. It turns out that 3-D matrix multiplication is actually pretty for fields like computer graphics and robotics - since they are pretty hard to describe but are easier to wrap your mind around if you can break them down as the composition of separate easier to think about rotations.\n",
    "\n",
    "Performing this matrix multiplication numerically, is, once again pretty similar to the two-dimensional case. In fact, a good way to test your understanding of the last video would be to try to reason through what specifically this matrix multiplication should look like thinking closely about how it relates to the idea of applying two successive of transformations in space. \n",
    "\n",
    "$$\\left[\\begin{matrix} 0 & -2 & 2 \\\\ 5 & 1 & 5 \\\\ 1 & 4 & -1 \\end{matrix}\\right] \\left[\\begin{matrix} 0 & 1 & 2 \\\\ 3 & 4 & 5 \\\\ 6 & 7 & 8 \\end{matrix}\\right] $$"
   ]
  },
  {
   "cell_type": "code",
   "execution_count": 3,
   "metadata": {
    "collapsed": false
   },
   "outputs": [],
   "source": [
    "import numpy as np\n",
    "m1 = np.column_stack([[0, 1, 2], [3, 4, 5], [6, 7, 8]])\n",
    "\n",
    "x = np.column_stack([1, 1, 1])"
   ]
  },
  {
   "cell_type": "code",
   "execution_count": 10,
   "metadata": {
    "collapsed": false
   },
   "outputs": [
    {
     "data": {
      "text/plain": [
       "array([ 3, 12, 21])"
      ]
     },
     "execution_count": 10,
     "metadata": {},
     "output_type": "execute_result"
    }
   ],
   "source": [
    "x[0][0] * m1[0] + x[0][1] * m1[1] + x[0][2] * m1[2]"
   ]
  },
  {
   "cell_type": "code",
   "execution_count": 11,
   "metadata": {
    "collapsed": false
   },
   "outputs": [
    {
     "data": {
      "text/plain": [
       "array([[ 3, 12, 21]])"
      ]
     },
     "execution_count": 11,
     "metadata": {},
     "output_type": "execute_result"
    }
   ],
   "source": [
    "x @ m1"
   ]
  },
  {
   "cell_type": "code",
   "execution_count": null,
   "metadata": {
    "collapsed": true
   },
   "outputs": [],
   "source": []
  }
 ],
 "metadata": {
  "anaconda-cloud": {},
  "kernelspec": {
   "display_name": "Python [default]",
   "language": "python",
   "name": "python3"
  },
  "language_info": {
   "codemirror_mode": {
    "name": "ipython",
    "version": 3
   },
   "file_extension": ".py",
   "mimetype": "text/x-python",
   "name": "python",
   "nbconvert_exporter": "python",
   "pygments_lexer": "ipython3",
   "version": "3.5.2"
  }
 },
 "nbformat": 4,
 "nbformat_minor": 2
}
