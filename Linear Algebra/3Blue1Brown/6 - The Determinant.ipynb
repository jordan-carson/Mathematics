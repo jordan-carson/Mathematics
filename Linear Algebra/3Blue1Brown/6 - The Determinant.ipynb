{
 "cells": [
  {
   "cell_type": "markdown",
   "metadata": {},
   "source": [
    "# The Determinant\n",
    "\n",
    "If you think about a couple of these linear transformation, you may notice how some of them seem to stretch space out, while others squish it on in. One thing that turns out to be pretty useful to understanding one of these transformations is to measure exactly how much it stretches or squishes things. More specifically, to measure the factor by which the given region increases or decreases. \n",
    "\n",
    "For example, look at the matrix below **fig 1**. It scales $\\hat{i}$ by a factor of 3, and scales $\\hat{j}$ by a factor of 2. Now, if we focus our attention on the one by one square, after the transformation this turns into a 2 by 3 rectangle. \n",
    "\n",
    "**Figure 1**\n",
    "$$\\left[\\begin{matrix} 3 & 0 \\\\ 0 & 2 \\end{matrix}\\right]$$\n",
    "\n",
    "Since this region started out with area 1, and ended up with area 6, we can say the linear transformation has scaled it's area by a factor of 6. New area  $ = 3 * 2$, Compare that to a shear, **fig 2**\n",
    "\n",
    "**Figure 2**\n",
    "$$\\left[\\begin{matrix} 1 & 1 \\\\ 0 & 1 \\end{matrix}\\right]$$\n",
    "\n",
    "Meaning, $\\hat{i}$ stays in place and $\\hat{j}$ moves over to $(1,1)$, that same unit square determined by $\\hat{i}$ and $\\hat{j}$, gets slanted and turned into a parallelogram, but the area of that parallelogram is still 1.  Since its base and height each continue to each have length 1. So, even though this transformation smushes things about it seems to leave areas unchanged. In the case of that one unit square sheer transformation. \n",
    "\n",
    "Actually, If you know how much the area of that one single unit square changes it can tell you how any possible region in space changes. For starters, notice that whatever happens to one square in the grid has to happen to any other square in the grid no matter the size. (This follows from the fact that grid lines remain parallel and evenly spaced). Then, any shape that is not a grid square can be approximated by grid squares really well. With abitrarily good approximation if you use small enough grid squares. So, since the areas of all those tiny grid squares are being scaled by some single amount the area of the blob as a whole will also be scaled also by that same single amount. \n",
    "\n",
    "This very special scaling factor, the factor by which a linear transformation changes any area is called the **determinant of that transformation**.\n",
    "\n",
    "**For example** \n",
    "\n",
    "The determinant of a transformation would be 3 if that transformation increases the area of the region by a factor of 3. The determinant of a transformation would be $\\frac{1}{2}$ if it squishes down all areas by a factor of $\\frac{1}{2}$. And the determinant of a transformatiton is 0 if it squishes all of space onto a line, or even onto a single point, i.e. if the two vectors within the transformation matrix is linearly dependent (i.e. one is a factor of the other). Since then, the area of any region would become 0. Checking if a determinant is 0 will give away if computer whether or not the transformation associated with that matrix squishes everything into a smaller dimension. \n",
    "\n",
    "The full concept of a determinant allows for negative values. **Why is this?** This has to do with the idea of orientation. Some transformations give the sensation of flipping space over. If you think of a 2d space as a sheet of paper, a transformation like that one seems to turn over that sheet onto the other side. Any transformations that do this are said to **invert the orientation of space**. Another way to think about it is in terms of $\\hat{i}$ and $\\hat{j}$. Notice that in their starting positions, $\\hat{j}$ is to the left of $\\hat{i}$. If after a transformation $\\hat{j}$ is now on the right of $\\hat{i}$ The orientation of space has been inverted. Whenever this happens, whenever the orientation of space is inverted, the determinant will be negative. The absolute value of the determinant though still tells you the factor by which areas have been scaled. \n",
    "\n",
    "**Why would this idea of a negative area scaling factor be a natural way tto describe orientation flipping?**\n",
    "\n",
    "Well if we think about what happens when we let $\\hat{i}$ get closer and closer to $\\hat{j}$. As $\\hat{i}$ gets closer all of the areas in space are getting squished more and more, meaning the determinant approaches 0. Once $\\hat{i}$ lines up perfectly with $\\hat{j}$ the determinant is 0. Then, if $\\hat{i}$ continues the way it was going past $\\hat{j}$, doesn't it feel natural for the determinant to keep decreasing into the negative numbers?\n",
    "\n",
    "**What about 3D transformations?**\n",
    "\n",
    "A determinant in a 3x3 matrix also tells you how much a transformation scales things but this time it tells you how much volumes get scaled. Just as in two dimension where this is easiest to think about by focusing on one particular square with an area 1 and watching only what happens to it, in 3 dimensions it helps to focus ur attention on the specific 1x1x1 cube whose edges are resting on the basis vectors, $\\hat{i}, \\hat{j}, \\hat{k}$. After the transformation, that cube might get warped into some kind of slanty cube, which has the name parallelepiped. Since this cube starts out with a volume of 1, and the determinant gives the factor by which any volume is scaled, you can think of the determinantt as simply being the volume of that parallelepiped that the cube turns into. \n",
    "\n",
    "A determinant of 0, would mean that all of space is squished onto something with 0 volume, either a flat plane, a line or the the most extreme case onto a single point. This will mean that the columns are linearly dependent.\n",
    "\n",
    "**What about negative determinants in 3-Dimensions?**\n",
    "\n",
    "One way tto describe orientation in 3-D, is with the right hand rule. Point the forefinger of your right hand in the direction of $\\hat{i}$ stick out your middle finger in the direction of $\\hat{j}$ and nottice how when you point your thumb up its in the direction of $\\hat{k}$. If you can still do that after the transformation the orientation has not changed, and the determinant is positive. Otherwise, if after the transformation it only makes since to do it with your left hand, then the orientation has been flipped, and the determinant is negative. \n",
    "\n",
    "### **How do you compute this?**\n",
    "\n",
    "For a 2x2 matrix with the below entries,\n",
    "\n",
    "$$\\left[\\begin{matrix} a & b \\\\ c & d \\end{matrix}\\right] = ad - bc$$\n",
    "\n",
    "**Intuition** - Lets say the terms b and c both happen to be 0, then the term a tells you how much $\\hat{i}$ is stretched in the x direction, and the term d tells you how much $\\hat{j}$ is stretched in the y direction. So, since those other terms are 0, it would make sense that $a * d$ gives the area of the rectangle that the unit square turns into. Even if one of b or c are zero you will have a parallelogram with a base a and a height d, so the area should still be $a * d$, if both b and c are non-0, then that $b*c$ term tells you how much this parallelogram is stretched or squished in the diagonal direction. A more thorough example is shown below\n",
    "\n",
    "![det complex](determinant_complex.png)\n",
    "\n",
    "**Determinants Computation for 3-Dimensions**\n",
    "\n",
    "$$\\text{det}\\left(\\left[\\begin{matrix} a & b & c \\\\ d & e & f \\\\ g & h & i \\end{matrix}\\right]\\right) = a \\ \\text{det}\\left(\\left[\\begin{matrix} e & f \\\\ h & i\\end{matrix}\\right]\\right) - b \\ \\text{det}\\left(\\left[\\begin{matrix} d & f \\\\ g & i\\end{matrix}\\right]\\right) + c \\ \\text{det}\\left(\\left[\\begin{matrix} d & e \\\\ g & h\\end{matrix}\\right]\\right)$$\n",
    "\n",
    "\n",
    "**What the determinant represents is more important than knowing the computation, but when asked should be able to solve and explain.**\n",
    "\n",
    "**Question**\n",
    "\n",
    "If you mutliply 2 matrices together $M_1 M_2$, the determinant of the resulting matrix is the same as the product of the determinants of the original two matrices, \n",
    "\n",
    "$$\\text{det}\\left(M_1 M_2\\right) = \\text{det}\\left(M_1\\right)\\text{det}\\left(M_2\\right)$$\n",
    "\n",
    "**Answer**\n",
    "The determinant provides information on how much a vector, or matrix is scaled by through a linear transformation, thus if you have two linear transformations the final resulting vector will be the result after applying both linear transformations which you can multiply the determinants to find the resulting scaling factor. "
   ]
  },
  {
   "cell_type": "code",
   "execution_count": 4,
   "metadata": {
    "collapsed": false
   },
   "outputs": [
    {
     "data": {
      "image/png": "[encoded data removed]",
      "text/plain": [
       "<matplotlib.figure.Figure at 0x11758de10>"
      ]
     },
     "metadata": {},
     "output_type": "display_data"
    }
   ],
   "source": [
    "import matplotlib.pyplot as plt\n",
    "import numpy as np\n",
    "import math\n",
    "\n",
    "a = [2.0,4.0]\n",
    "b = [8.0,8.0]\n",
    "\n",
    "head_length = 0.7\n",
    "\n",
    "dx = b[0] - a[0]\n",
    "dy = b[1] - a[1]\n",
    "\n",
    "vec_ab = [dx,dy]\n",
    "\n",
    "vec_ab_magnitude = math.sqrt(dx**2+dy**2)\n",
    "\n",
    "dx = dx / vec_ab_magnitude\n",
    "dy = dy / vec_ab_magnitude\n",
    "\n",
    "vec_ab_magnitude = vec_ab_magnitude - head_length\n",
    "\n",
    "ax = plt.axes()\n",
    "\n",
    "ax.arrow(a[0], a[1], vec_ab_magnitude*dx, vec_ab_magnitude*dy, head_width=0.5, head_length=0.7, fc='lightblue', ec='black')\n",
    "\n",
    "plt.scatter(a[0],a[1],color='black')\n",
    "plt.scatter(b[0],b[1],color='black')\n",
    "\n",
    "ax.annotate('A', (a[0]-0.4,a[1]),fontsize=14)\n",
    "ax.annotate('B', (b[0]+0.3,b[1]),fontsize=14)\n",
    "\n",
    "plt.grid()\n",
    "\n",
    "plt.xlim(0,10)\n",
    "plt.ylim(0,10)\n",
    "\n",
    "plt.title('How to plot a vector in matplotlib ?',fontsize=10)\n",
    "\n",
    "# plt.savefig('how_to_plot_a_vector_in_matplotlib_fig2.png', bbox_inches='tight')\n",
    "plt.show()\n",
    "plt.close()"
   ]
  },
  {
   "cell_type": "code",
   "execution_count": null,
   "metadata": {
    "collapsed": true
   },
   "outputs": [],
   "source": []
  }
 ],
 "metadata": {
  "kernelspec": {
   "display_name": "Python 3",
   "language": "python",
   "name": "python3"
  },
  "language_info": {
   "codemirror_mode": {
    "name": "ipython",
    "version": 3
   },
   "file_extension": ".py",
   "mimetype": "text/x-python",
   "name": "python",
   "nbconvert_exporter": "python",
   "pygments_lexer": "ipython3",
   "version": "3.6.0"
  }
 },
 "nbformat": 4,
 "nbformat_minor": 2
}
