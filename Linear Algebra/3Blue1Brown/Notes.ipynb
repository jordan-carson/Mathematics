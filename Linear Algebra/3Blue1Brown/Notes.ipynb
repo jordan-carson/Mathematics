{
 "cells": [
  {
   "cell_type": "markdown",
   "metadata": {
    "collapsed": true
   },
   "source": [
    "# Linear Algebra\n"
   ]
  },
  {
   "cell_type": "markdown",
   "metadata": {},
   "source": [
    "A **Vector** has both a magnitude and direction. \n",
    "\n",
    "For example, if a car is moving 5mph this is only a vector quantity, and we don't know what direction. This is not a vector quantity by itself it is considered to be a scalar. Let's say we found that the car is moving 5pmh east, this is now a vector because we know the direction. This is no longer speed, but velocity. \n",
    "\n",
    "So imagine a x, y coordinate system, the length of a vector is specified by its magnitude. It doesn't necessarily matter where it starts on the axis, we just care about the direction and magnitude. \n",
    "\n",
    "In mathematical notation. \n",
    "\n",
    "$$\\vec{v}=\\left[\\begin{array}\n",
    "    55 \\\\\n",
    "    0\n",
    "      \\end{array}\\right]$$\n",
    "      \n",
    "      \n",
    "The two dimensional coordinate system can be found below as\n",
    "      \n",
    "$$\\mathbf{R}^2$$"
   ]
  },
  {
   "cell_type": "markdown",
   "metadata": {},
   "source": [
    "## Basic Properties of Matrix and Vectors\n",
    "\n",
    "**Matrix** is a rectangular arrangement of numbers into rows and columns. Each number in a matrix is referred to as a matrix element or entry. \n",
    "\n",
    "\n",
    "### Scalar Multiplication\n",
    "\n",
    "The term **scalar multiplication** refers to the product of a real number and a matrix. In scalar multiplication, each entry in the matrix is multiplied by the given scalar. \n",
    "\n",
    "For example, given that $\\mathbf{A} = \\left[ \\begin{matrix} 10 & 6\\\\ 4 & 3 \\end{matrix} \\right]$\n",
    "\n",
    "Lets find $2 \\mathbf{A} = \\left[ \\begin{matrix} 20 & 12\\\\ 8 & 6 \\end{matrix} \\right]$ \n",
    "\n",
    "**Solving matrix equation**\n",
    "\n",
    "$\\mathbf{3A} = \\left[ \\begin{matrix} 3 & 24\\\\ 18 & 0 \\end{matrix} \\right]$\n",
    "\n",
    "Divide everything by 1/3, gives us\n",
    "\n",
    "$\\mathbf{A} = \\left[ \\begin{matrix} 1 & 8\\\\ 6 & 0 \\end{matrix} \\right]$\n",
    "\n",
    "\n",
    "### Linear Transformation\n",
    "In two dimensions, a two-dimension linear transformation is a special kind of function which takes in a two-dimensional vector and outputs another two-dimensional vector. We can think of smooshing something around, \n",
    "\n",
    "But must follow the geometric rule: The _origin must remain fixed_, and _all lines must remain lines_. \n",
    "\n",
    "#### Representing two dimension linear transforms with matices\n",
    "\n",
    "In general, each vector $\\begin{$\n",
    "\n",
    "A really nice way to describe all this is to represent a given linear transformation with the matrix below:\n",
    "\n",
    "\n",
    "\n",
    "$\\mathbf{A} = \\left[ \\begin{matrix} a & b\\\\ c & d \\end{matrix} \\right]$\n",
    "\n",
    "In this matrix, the first column tells us where \n",
    "\n",
    "### Transpose\n",
    "\n",
    "### Conjugate \n",
    "\n",
    "### Rank\n",
    "\n",
    "Count the number of pivot points, try to find rows to do row addition or subtraction to cancel some out, to make them zeros, note the rank cannot be greater than the number of rows or columns. \n",
    "\n",
    "A pivot point needs to have a zero to the left and below of it. \n",
    "\n",
    "### Determinant\n",
    "\n",
    "of a 2x2 matrix.\n",
    "\n",
    "Multiply the diagnols and subtract. \n",
    "\n",
    "of a 3x3 matrix.\n",
    "\n",
    "$$ \\mathbf{A} = \\left[ \\begin{matrix}\n",
    "    a_{11} & a_{12} & a_{13} \\\\\n",
    "    a_{21} & a_{22} & a_{23} \\\\\n",
    "    a_{31} & a_{32} & a_{33} \n",
    "   \\end{matrix} \\right]\n",
    "$$\n",
    "\n",
    "Find the $\\text{det}(\\mathbf{A}) = \\left| \\mathbf{A} \\right|$\n",
    "\n",
    "Formula is\n",
    "$$ a_{11}\\left[ \\begin{matrix} \n",
    "        a_{22} & a_{23} \\\\ \n",
    "        a_{32} & a_{33} \n",
    "        \\end{matrix}\n",
    "        \\right]\n",
    "- a_{12} \\left[ \\begin{matrix} \n",
    "        a_{21} & a_{23} \\\\ \n",
    "        a_{31} & a_{33} \n",
    "        \\end{matrix}\n",
    "        \\right]\n",
    "+ a_{13} \\left[ \\begin{matrix} \n",
    "        a_{21} & a_{22} \\\\ \n",
    "        a_{31} & a_{32} \n",
    "        \\end{matrix}\n",
    "        \\right]\n",
    "$$\n",
    "\n",
    "#### Example:\n",
    "\n",
    "$$ \\mathbf{A} = \\left[ \\begin{matrix}\n",
    "    1 & 6 & 4 \\\\\n",
    "    2 & 7 & 3 \\\\\n",
    "    8 & 9 & 5 \n",
    "   \\end{matrix} \\right]\n",
    "$$\n",
    "\n",
    " $$ 1\\left[ \\begin{matrix} \n",
    "        7 & 3 \\\\ \n",
    "        9 & 5 \n",
    "        \\end{matrix}\n",
    "        \\right]\n",
    "- 6 \\left[ \\begin{matrix} \n",
    "        2 & 3 \\\\ \n",
    "        8 & 5 \n",
    "        \\end{matrix}\n",
    "        \\right]\n",
    "+ 4 \\left[ \\begin{matrix} \n",
    "        2 & 7 \\\\ \n",
    "       8 & 9 \n",
    "        \\end{matrix}\n",
    "        \\right]\n",
    "$$         \n",
    "\n",
    "$$ = 1(7\\cdot5 - 3\\cdot9) - 6(2\\cdot5 - 3\\cdot8) + 4(2\\cdot9 - 8\\cdot7) $$\n",
    "\n",
    "$$ = 7 + 84 - 152 = -60$$"
   ]
  },
  {
   "cell_type": "markdown",
   "metadata": {},
   "source": [
    "## Special Matrices\n",
    "\n",
    "### Square Matrix\n",
    "\n",
    "### Identity Matrix\n",
    "\n",
    "### Triangular Matrix\n",
    "\n",
    "### Idea about Spare and Dense Matrix\n",
    "\n",
    "### Unit Vectors\n",
    "\n",
    "### Symmetric Matrix\n",
    "\n",
    "### Hermitian \n",
    "\n",
    "### Skew-Hermitian \n",
    "\n",
    "### Unitary Matrices"
   ]
  },
  {
   "cell_type": "markdown",
   "metadata": {},
   "source": [
    "## Matrix Facorization concept/LU Decomposition\n",
    "\n",
    "### Gaussian/Gauss-Jordan Elimination\n",
    "\n",
    "### Solving Ax=b Linear system of equation\n"
   ]
  },
  {
   "cell_type": "markdown",
   "metadata": {},
   "source": [
    "### Vector Space\n",
    "\n",
    "### Basis\n",
    "\n",
    "### Span \n",
    "\n",
    "### Orthogonality\n",
    "\n",
    "### Orthonormality\n",
    "\n",
    "### Linear Least Square\n"
   ]
  },
  {
   "cell_type": "markdown",
   "metadata": {},
   "source": [
    "### Eigenvalues\n",
    "\n",
    "### Eigenvectors\n",
    "\n",
    "### Diagonalization\n",
    "\n",
    "### Singular Value Decomposition (SVD)"
   ]
  },
  {
   "cell_type": "markdown",
   "metadata": {},
   "source": [
    "## Eigenvalues / Eigenvectors\n",
    "\n",
    "**What is it?**\n",
    "\n",
    "For a particular matrix, vectors whose direction remains unchanged even after applying a linear transformation with the matrix are called **Eigenvectors**, for that particular matrix. The scaled up amount usually denoted as $\\lambda$ is called the **Eigenvalue**. \n",
    "\n",
    "#### Example: Multiplying a 2-dimension vector with a 2*2 matrix\n"
   ]
  },
  {
   "cell_type": "code",
   "execution_count": 2,
   "metadata": {},
   "outputs": [
    {
     "data": {
      "text/plain": [
       "array([[1, 4],\n",
       "       [0, 6]])"
      ]
     },
     "execution_count": 2,
     "metadata": {},
     "output_type": "execute_result"
    }
   ],
   "source": [
    "import numpy as np\n",
    "np.array([[1,2],[0,3]]) * np.array([1, 2])"
   ]
  },
  {
   "cell_type": "code",
   "execution_count": null,
   "metadata": {
    "collapsed": true
   },
   "outputs": [],
   "source": []
  }
 ],
 "metadata": {
  "kernelspec": {
   "display_name": "Python 3",
   "language": "python",
   "name": "python3"
  },
  "language_info": {
   "codemirror_mode": {
    "name": "ipython",
    "version": 3
   },
   "file_extension": ".py",
   "mimetype": "text/x-python",
   "name": "python",
   "nbconvert_exporter": "python",
   "pygments_lexer": "ipython3",
   "version": "3.6.8"
  }
 },
 "nbformat": 4,
 "nbformat_minor": 2
}
