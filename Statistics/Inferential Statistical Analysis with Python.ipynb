{
 "cells": [
  {
   "cell_type": "markdown",
   "metadata": {
    "collapsed": true
   },
   "source": [
    "## Introduction to Bayesian Statistics\n",
    "\n",
    "There are two primary frameworks within Statistics, they are frequentist and Bayesian. \n",
    "\n",
    "In frequentists statistics, probabilites are made of the world. So, whether something is actually correct or incorrect. But in Bayesian statistics, probabilities are made in your mind (for the game involved). Thus, we can update our probabilities when we get new information, as long as the game has not been finished. \n",
    "\n",
    "**to be continued**"
   ]
  },
  {
   "cell_type": "markdown",
   "metadata": {},
   "source": [
    "### Terminology and Notation\n",
    "\n",
    "**Averages or Means**\n",
    "- $\\mu$ = Population Mean Parameter\n",
    "- $\\hat{\\mu} \\text{ or } \\bar{x}$ = Sample Mean\n",
    "\n",
    "**Variability**\n",
    "- $\\sigma$ = Population Standard Deviation Parameter\n",
    "- $\\hat{\\sigma} \\text{ or } \\mathbf{s}$ = Sample Standard Deviation\n",
    "\n",
    "**Proportions**\n",
    "- $\\pi \\text{ and } \\hat{\\pi} \\ \\text{or} \\ p \\text{ and } \\hat{p}$ = Population Proportions and Sample Proportions\n",
    "\n",
    "**Confidence Intervals**\n",
    "Base Estimate +/- \n",
    "\n"
   ]
  },
  {
   "cell_type": "code",
   "execution_count": null,
   "metadata": {
    "collapsed": true
   },
   "outputs": [],
   "source": []
  },
  {
   "cell_type": "code",
   "execution_count": null,
   "metadata": {
    "collapsed": true
   },
   "outputs": [],
   "source": []
  }
 ],
 "metadata": {
  "kernelspec": {
   "display_name": "Python 3",
   "language": "python",
   "name": "python3"
  },
  "language_info": {
   "codemirror_mode": {
    "name": "ipython",
    "version": 3
   },
   "file_extension": ".py",
   "mimetype": "text/x-python",
   "name": "python",
   "nbconvert_exporter": "python",
   "pygments_lexer": "ipython3",
   "version": "3.6.0"
  }
 },
 "nbformat": 4,
 "nbformat_minor": 2
}
